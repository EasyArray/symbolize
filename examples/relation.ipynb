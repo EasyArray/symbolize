{
 "cells": [
  {
   "cell_type": "code",
   "execution_count": null,
   "id": "bcad6e9a",
   "metadata": {},
   "outputs": [],
   "source": [
    "# Allow multiple outputs per cell\n",
    "%config InteractiveShell.ast_node_interactivity = \"all\"\n",
    "\n",
    "# import Relation DSL\n",
    "from symbolize.relation.relation import Relation, detectors, ids"
   ]
  },
  {
   "cell_type": "code",
   "execution_count": null,
   "id": "e550ab57",
   "metadata": {},
   "outputs": [],
   "source": [
    "red, wire, blue, attached_to = detectors('red wire blue attached_to')\n",
    "A,B,C,D = ids('ABCD')\n",
    "\n",
    "+red(A)\n",
    "+red(B)\n",
    "red\n",
    "red(A)"
   ]
  },
  {
   "cell_type": "code",
   "execution_count": null,
   "id": "7cefad29",
   "metadata": {},
   "outputs": [],
   "source": [
    "+wire(A)\n",
    "(red & wire)"
   ]
  },
  {
   "cell_type": "code",
   "execution_count": null,
   "id": "8e809ba5",
   "metadata": {},
   "outputs": [],
   "source": [
    "red(A)\n",
    "print()\n",
    "red(C)"
   ]
  },
  {
   "cell_type": "code",
   "execution_count": null,
   "id": "94094425",
   "metadata": {},
   "outputs": [],
   "source": [
    "from symbolize.core.node import Node\n",
    "\n",
    "x = 5\n",
    "l = Node(lambda x : lambda y: red(x) & wire(y))\n",
    "y = Node('y')\n",
    "l(y)"
   ]
  },
  {
   "cell_type": "code",
   "execution_count": null,
   "id": "e6054f32",
   "metadata": {},
   "outputs": [],
   "source": [
    "from graphviz import Digraph\n",
    "\n",
    "dot = Digraph(node_attr={'shape': 'plaintext'})\n",
    "\n",
    "dot.node('ex1', label='<<B>bold</B>>')\n",
    "dot.node('ex2', label='<<I>italic</I>>')\n",
    "dot.node('ex3', label='<<FONT COLOR=\"red\">red text</FONT>>')\n",
    "dot.node('ex4', label='<<TABLE BORDER=\"1\" CELLBORDER=\"1\"><TR><TD>cell1</TD><TD>cell2</TD></TR></TABLE>>')\n",
    "\n",
    "dot.edge('ex1', 'ex2')\n",
    "dot.edge('ex2', 'ex3')\n",
    "dot.edge('ex3', 'ex4')\n",
    "\n",
    "dot  # in Jupyter, shows the styled graph\n"
   ]
  }
 ],
 "metadata": {
  "kernelspec": {
   "display_name": "Python 3",
   "language": "python",
   "name": "python3"
  },
  "language_info": {
   "codemirror_mode": {
    "name": "ipython",
    "version": 3
   },
   "file_extension": ".py",
   "mimetype": "text/x-python",
   "name": "python",
   "nbconvert_exporter": "python",
   "pygments_lexer": "ipython3",
   "version": "3.12.1"
  }
 },
 "nbformat": 4,
 "nbformat_minor": 5
}
